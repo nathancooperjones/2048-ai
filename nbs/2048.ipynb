{
 "cells": [
  {
   "cell_type": "markdown",
   "metadata": {},
   "source": [
    "# 2048\n",
    "A fun game to play in a not so fun way - through the command line."
   ]
  },
  {
   "cell_type": "code",
   "execution_count": 1,
   "metadata": {},
   "outputs": [],
   "source": [
    "import random\n",
    "import time\n",
    "\n",
    "from IPython.display import clear_output\n",
    "import numpy as np"
   ]
  },
  {
   "cell_type": "code",
   "execution_count": 2,
   "metadata": {},
   "outputs": [],
   "source": [
    "# GLOBAL VARS\n",
    "UPPER_ROW = LEFT_COL = 0\n",
    "\n",
    "LOWER_ROW = 3\n",
    "RIGHT_COL = 3\n",
    "NUM_OF_BOARD_SPACES = (LOWER_ROW + 1) * (RIGHT_COL + 1)\n",
    "\n",
    "PROBABILITY_OF_SPAWNING_4 = 0.1\n",
    "\n",
    "SCORE = MOVE_COUNTER = 0\n",
    "\n",
    "MOVE_MADE = None\n",
    "\n",
    "BOARD = np.zeros((LOWER_ROW + 1, RIGHT_COL + 1)).astype(int)"
   ]
  },
  {
   "cell_type": "markdown",
   "metadata": {},
   "source": [
    "## What's Left to Do:\n",
    "* More verbose debug mode?\n",
    "* Tracking of all moves made by user, score, move count at time, etc.\n",
    "* Add documentation to functions.\n",
    "* Get this in a `.py` file."
   ]
  },
  {
   "cell_type": "markdown",
   "metadata": {},
   "source": [
    "## Game Setup: "
   ]
  },
  {
   "cell_type": "code",
   "execution_count": 3,
   "metadata": {
    "scrolled": true
   },
   "outputs": [],
   "source": [
    "def add_random_space():\n",
    "    global BOARD\n",
    "\n",
    "    list_of_zeros = list(zip(np.where(BOARD == 0)[0], np.where(BOARD == 0)[1]))\n",
    "    if list_of_zeros:\n",
    "        if random.random() < PROBABILITY_OF_SPAWNING_4:\n",
    "            BOARD[random.choice(list_of_zeros)] = 4\n",
    "        else:\n",
    "            BOARD[random.choice(list_of_zeros)] = 2\n",
    "    else:\n",
    "        # TODO: raise error of some sort.\n",
    "        print('You lose!')"
   ]
  },
  {
   "cell_type": "code",
   "execution_count": 4,
   "metadata": {},
   "outputs": [],
   "source": [
    "def recursively_move(row, col, direction, combine=False):\n",
    "    global BOARD, SCORE, MOVE_MADE\n",
    "    \n",
    "    # ensure we have proper checks and adjusted rows/cols for the specified direction\n",
    "    adjusted_row_dict = {'s': row+1, 'w': row-1, 'd': row, 'a': row}\n",
    "    adjusted_col_dict = {'s': col, 'w': col, 'd': col+1, 'a': col-1}\n",
    "    adjusted_row = adjusted_row_dict[direction]\n",
    "    adjusted_col = adjusted_col_dict[direction]\n",
    "\n",
    "    if (direction == 's'\n",
    "        and (row < UPPER_ROW or col < LEFT_COL\n",
    "             or row > LOWER_ROW - 1 or col > RIGHT_COL)\n",
    "        ):\n",
    "        return\n",
    "    elif (direction == 'w'\n",
    "          and (row - 1 < UPPER_ROW or col < LEFT_COL\n",
    "               or row > LOWER_ROW or col > RIGHT_COL)\n",
    "          ):\n",
    "        return\n",
    "    elif (direction == 'd'\n",
    "          and (row < UPPER_ROW or col < LEFT_COL\n",
    "               or row > LOWER_ROW or col > RIGHT_COL - 1)\n",
    "          ):\n",
    "        return\n",
    "    elif (direction == 'a'\n",
    "          and (row < UPPER_ROW or col - 1 < LEFT_COL\n",
    "               or row > LOWER_ROW or col > RIGHT_COL)\n",
    "          ):\n",
    "        return\n",
    "    \n",
    "    # now general logic\n",
    "    elif BOARD[row, col] == 0:\n",
    "        return\n",
    "    elif combine is False and BOARD[adjusted_row, adjusted_col] == 0:\n",
    "        BOARD[adjusted_row, adjusted_col] = BOARD[row, col]\n",
    "    elif combine is True and BOARD[row, col] == BOARD[adjusted_row, adjusted_col]:\n",
    "        BOARD[adjusted_row, adjusted_col] *= 2\n",
    "        SCORE += BOARD[adjusted_row, adjusted_col]\n",
    "    else:\n",
    "        return\n",
    "\n",
    "    BOARD[row, col] = 0\n",
    "    MOVE_MADE = True\n",
    "    if combine is False:\n",
    "        recursively_move(adjusted_row, adjusted_col, direction, combine=False)"
   ]
  },
  {
   "cell_type": "code",
   "execution_count": 5,
   "metadata": {
    "scrolled": false
   },
   "outputs": [],
   "source": [
    "def shift(direction):\n",
    "    global MOVE_COUNTER, MOVE_MADE\n",
    "    \n",
    "    if MOVE_MADE is None or MOVE_MADE is True:\n",
    "        MOVE_MADE = False\n",
    "    \n",
    "    if direction == 's':\n",
    "        # down shift everything twice, combine only once\n",
    "        for iteration in range(2):\n",
    "            for row_start in range(LOWER_ROW - 1, UPPER_ROW - 1, -1):\n",
    "                for row in range(row_start, UPPER_ROW - 1, -1):\n",
    "                    for col in range(LEFT_COL, RIGHT_COL + 1):\n",
    "                        recursively_move(row, col, direction, combine=False)\n",
    "            # only combine once\n",
    "            if iteration == 0:\n",
    "                for row in range(LOWER_ROW - 1, UPPER_ROW - 1, -1):\n",
    "                    for col in range(LEFT_COL, RIGHT_COL + 1):\n",
    "                        recursively_move(row, col, direction, combine=True)\n",
    "    elif direction == 'd':\n",
    "        # right shift everything twice, combine only once\n",
    "        for iteration in range(2):\n",
    "            for col_start in range(RIGHT_COL - 1, LEFT_COL - 1, -1):\n",
    "                for col in range(col_start, LEFT_COL - 1, -1):\n",
    "                    for row in range(UPPER_ROW, LOWER_ROW + 1):\n",
    "                        recursively_move(row, col, direction, combine=False)\n",
    "            # only combine once\n",
    "            if iteration == 0:\n",
    "                for col in range(RIGHT_COL - 1, LEFT_COL - 1, -1):\n",
    "                    for row in range(UPPER_ROW, LOWER_ROW + 1):\n",
    "                        recursively_move(row, col, direction, combine=True)\n",
    "    elif direction == 'w':\n",
    "        # up shift everything twice, combine only once\n",
    "        for iteration in range(2):\n",
    "            for row_start in range(UPPER_ROW + 1, LOWER_ROW + 1):\n",
    "                for row in range(row_start, LOWER_ROW + 1):\n",
    "                    for col in range(LEFT_COL, RIGHT_COL + 1):\n",
    "                        recursively_move(row, col, direction, combine=False)\n",
    "            # only combine once\n",
    "            if iteration == 0:\n",
    "                for row in range(UPPER_ROW + 1, LOWER_ROW + 1):\n",
    "                    for col in range(LEFT_COL, RIGHT_COL + 1):\n",
    "                        recursively_move(row, col, direction, combine=True)\n",
    "    elif direction == 'a':\n",
    "        # left shift everything twice, combine only once\n",
    "        for iteration in range(2):\n",
    "            for col_start in range(LEFT_COL + 1, RIGHT_COL + 1):\n",
    "                for col in range(col_start, RIGHT_COL + 1):\n",
    "                    for row in range(UPPER_ROW, LOWER_ROW + 1):\n",
    "                        recursively_move(row, col, direction, combine=False)\n",
    "            # only combine once\n",
    "            if iteration == 0:\n",
    "                for col in range(LEFT_COL + 1, RIGHT_COL + 1):\n",
    "                    for row in range(UPPER_ROW, LOWER_ROW + 1):\n",
    "                        recursively_move(row, col, direction, combine=True)\n",
    "    else:\n",
    "        # TODO: raise error of some sort.\n",
    "        print('ERROR')\n",
    "\n",
    "    MOVE_COUNTER += 1"
   ]
  },
  {
   "cell_type": "code",
   "execution_count": 6,
   "metadata": {
    "scrolled": false
   },
   "outputs": [],
   "source": [
    "def check_if_there_is_a_move_left():    \n",
    "    # are there any 0s left?\n",
    "    if len(BOARD.nonzero()[0]) < NUM_OF_BOARD_SPACES:\n",
    "        return True\n",
    "    # if not, can we move any blocks over potentially in the coming moves?\n",
    "    for row in range(UPPER_ROW, LOWER_ROW + 1):\n",
    "        for col in range(LEFT_COL, RIGHT_COL + 1):\n",
    "            if can_we_move_this_block(row, col):\n",
    "                return True\n",
    "    return False\n",
    "\n",
    "\n",
    "def can_we_move_this_block(row, col):\n",
    "    if col > LEFT_COL:\n",
    "        if BOARD[row, col] == BOARD[row, col - 1]:\n",
    "            return True\n",
    "    if col < RIGHT_COL:\n",
    "        if BOARD[row, col] == BOARD[row, col + 1]:\n",
    "            return True\n",
    "    if row > UPPER_ROW:\n",
    "        if BOARD[row, col] == BOARD[row - 1, col]:\n",
    "            return True\n",
    "    if row < LOWER_ROW:\n",
    "        if BOARD[row, col] == BOARD[row + 1, col]:\n",
    "            return True\n",
    "    else:\n",
    "        return False"
   ]
  },
  {
   "cell_type": "code",
   "execution_count": 7,
   "metadata": {},
   "outputs": [],
   "source": [
    "def reset():\n",
    "    global SCORE, MOVE_COUNTER, MOVE_MADE, BOARD\n",
    "\n",
    "    SCORE = 0\n",
    "    MOVE_COUNTER = 0\n",
    "    MOVE_MADE = None\n",
    "    BOARD = np.zeros((LOWER_ROW + 1, RIGHT_COL + 1)).astype(int)\n",
    "    \n",
    "    # add in some random spaces.\n",
    "    for _ in range(2):\n",
    "        add_random_space()"
   ]
  },
  {
   "cell_type": "code",
   "execution_count": 8,
   "metadata": {},
   "outputs": [],
   "source": [
    "def transform_direction_input():\n",
    "    raw_direction = input('Enter a direction [w/a/s/d or down/up/right/left]: ')\n",
    "    direction = raw_direction.strip().lower()\n",
    "\n",
    "    if direction == 'quit' or direction == 'q' or direction == 'exit':\n",
    "        raise KeyboardInterrupt('Goodbye!')\n",
    "    elif direction == 'right':\n",
    "        direction = 'd'\n",
    "    elif direction == 'left':\n",
    "        direction = 'a'\n",
    "    elif direction == 'up':\n",
    "        direction = 'w'\n",
    "    elif direction == 'down':\n",
    "        direction = 's'\n",
    "    if direction in ['w', 'a', 's', 'd']:\n",
    "        return direction\n",
    "\n",
    "    print(f'\"{raw_direction}\" is not valid. Try again or type \"quit\".')\n",
    "    return transform_direction_input()"
   ]
  },
  {
   "cell_type": "code",
   "execution_count": 9,
   "metadata": {},
   "outputs": [],
   "source": [
    "def pretty_print(mat, fmt=\"n\"):\n",
    "    \"\"\"\n",
    "    Modified from https://gist.github.com/braingineer/d801735dac07ff3ac4d746e1f218ab75.\n",
    "    `n` for number.\n",
    "    \"\"\"\n",
    "    col_maxes = [max([len((\"{:\"+fmt+\"}\").format(x)) for x in col]) for col in mat.T]\n",
    "    for x in mat:\n",
    "        print('     ', end='')\n",
    "        for i, y in enumerate(x):\n",
    "            print((\"{:\"+str(col_maxes[i])+fmt+\"}\").format(y), end='  ')\n",
    "        print()"
   ]
  },
  {
   "cell_type": "markdown",
   "metadata": {},
   "source": [
    "## Tests "
   ]
  },
  {
   "cell_type": "code",
   "execution_count": 10,
   "metadata": {},
   "outputs": [],
   "source": [
    "# Test that we can correctly detect when legal moves remain.\n",
    "BOARD = np.reshape(np.arange(0, 16), (4, 4))\n",
    "assert check_if_there_is_a_move_left() == True\n",
    "BOARD = np.reshape(np.arange(1, 17), (4, 4))\n",
    "assert check_if_there_is_a_move_left() == False\n",
    "BOARD = np.reshape(np.ones(16), (4, 4))\n",
    "assert check_if_there_is_a_move_left() == True\n",
    "reset()\n",
    "assert check_if_there_is_a_move_left() == True"
   ]
  },
  {
   "cell_type": "code",
   "execution_count": 11,
   "metadata": {},
   "outputs": [],
   "source": [
    "# Test shift down\n",
    "BOARD = np.array([[2, 2, 2, 2],\n",
    "                  [2, 0, 0, 0],\n",
    "                  [2, 0, 0, 0],\n",
    "                  [2, 0, 0, 0]])\n",
    "shift('s')\n",
    "assert np.array_equal(BOARD, np.array([[0, 0, 0, 0],\n",
    "                                       [0, 0, 0, 0],\n",
    "                                       [4, 0, 0, 0],\n",
    "                                       [4, 2, 2, 2]]))"
   ]
  },
  {
   "cell_type": "code",
   "execution_count": 12,
   "metadata": {},
   "outputs": [],
   "source": [
    "# Test shift down special consideration #1\n",
    "BOARD = np.array([[2, 2, 2, 2],\n",
    "                  [0, 0, 0, 0],\n",
    "                  [2, 0, 0, 0],\n",
    "                  [4, 0, 0, 0]])\n",
    "shift('s')\n",
    "assert np.array_equal(BOARD, np.array([[0, 0, 0, 0],\n",
    "                                       [0, 0, 0, 0],\n",
    "                                       [4, 0, 0, 0],\n",
    "                                       [4, 2, 2, 2]]))"
   ]
  },
  {
   "cell_type": "code",
   "execution_count": 13,
   "metadata": {},
   "outputs": [],
   "source": [
    "# Test shift down special consideration #2\n",
    "BOARD = np.array([[2, 2, 2, 2],\n",
    "                  [2, 0, 0, 0],\n",
    "                  [4, 0, 0, 0],\n",
    "                  [8, 0, 0, 0]])\n",
    "shift('s')\n",
    "assert np.array_equal(BOARD, np.array([[0, 0, 0, 0],\n",
    "                                       [4, 0, 0, 0],\n",
    "                                       [4, 0, 0, 0],\n",
    "                                       [8, 2, 2, 2]]))"
   ]
  },
  {
   "cell_type": "code",
   "execution_count": 14,
   "metadata": {},
   "outputs": [],
   "source": [
    "# Test shift up\n",
    "BOARD = np.array([[2, 2, 2, 2],\n",
    "                  [2, 0, 0, 0],\n",
    "                  [2, 0, 0, 0],\n",
    "                  [2, 0, 0, 0]])\n",
    "shift('w')\n",
    "assert np.array_equal(BOARD, np.array([[4, 2, 2, 2],\n",
    "                                       [4, 0, 0, 0],\n",
    "                                       [0, 0, 0, 0],\n",
    "                                       [0, 0, 0, 0]]))"
   ]
  },
  {
   "cell_type": "code",
   "execution_count": 15,
   "metadata": {},
   "outputs": [],
   "source": [
    "# Test shift up special consideration #1\n",
    "BOARD = np.array([[2, 2, 2, 2],\n",
    "                  [0, 0, 0, 0],\n",
    "                  [2, 0, 0, 0],\n",
    "                  [4, 0, 0, 0]])\n",
    "shift('w')\n",
    "assert np.array_equal(BOARD, np.array([[4, 2, 2, 2],\n",
    "                                       [4, 0, 0, 0],\n",
    "                                       [0, 0, 0, 0],\n",
    "                                       [0, 0, 0, 0]]))"
   ]
  },
  {
   "cell_type": "code",
   "execution_count": 16,
   "metadata": {},
   "outputs": [],
   "source": [
    "# Test shift up special consideration #2\n",
    "BOARD = np.array([[2, 2, 2, 2],\n",
    "                  [2, 0, 0, 0],\n",
    "                  [4, 0, 0, 0],\n",
    "                  [8, 0, 0, 0]])\n",
    "shift('w')\n",
    "assert np.array_equal(BOARD, np.array([[4, 2, 2, 2],\n",
    "                                       [4, 0, 0, 0],\n",
    "                                       [8, 0, 0, 0],\n",
    "                                       [0, 0, 0, 0]]))"
   ]
  },
  {
   "cell_type": "code",
   "execution_count": 17,
   "metadata": {},
   "outputs": [],
   "source": [
    "# Test shift right\n",
    "BOARD = np.array([[2, 2, 2, 2],\n",
    "                  [2, 0, 0, 0],\n",
    "                  [2, 0, 0, 0],\n",
    "                  [2, 0, 0, 0]])\n",
    "shift('d')\n",
    "assert np.array_equal(BOARD, np.array([[0, 0, 4, 4],\n",
    "                                       [0, 0, 0, 2],\n",
    "                                       [0, 0, 0, 2],\n",
    "                                       [0, 0, 0, 2]]))"
   ]
  },
  {
   "cell_type": "code",
   "execution_count": 18,
   "metadata": {},
   "outputs": [],
   "source": [
    "# Test shift right special consideration #1\n",
    "BOARD = np.array([[2, 0, 2, 4],\n",
    "                  [2, 0, 0, 0],\n",
    "                  [2, 0, 0, 0],\n",
    "                  [2, 0, 0, 0]])\n",
    "shift('d')\n",
    "assert np.array_equal(BOARD, np.array([[0, 0, 4, 4],\n",
    "                                       [0, 0, 0, 2],\n",
    "                                       [0, 0, 0, 2],\n",
    "                                       [0, 0, 0, 2]]))"
   ]
  },
  {
   "cell_type": "code",
   "execution_count": 19,
   "metadata": {},
   "outputs": [],
   "source": [
    "# Test shift right special consideration #2\n",
    "BOARD = np.array([[2, 2, 4, 8],\n",
    "                  [2, 0, 0, 0],\n",
    "                  [2, 0, 0, 0],\n",
    "                  [2, 0, 0, 0]])\n",
    "shift('d')\n",
    "assert np.array_equal(BOARD, np.array([[0, 4, 4, 8],\n",
    "                                       [0, 0, 0, 2],\n",
    "                                       [0, 0, 0, 2],\n",
    "                                       [0, 0, 0, 2]]))"
   ]
  },
  {
   "cell_type": "code",
   "execution_count": 20,
   "metadata": {},
   "outputs": [],
   "source": [
    "# Test shift left\n",
    "BOARD = np.array([[2, 2, 2, 2],\n",
    "                  [2, 0, 0, 0],\n",
    "                  [2, 0, 0, 0],\n",
    "                  [2, 0, 0, 0]])\n",
    "shift('a')\n",
    "assert np.array_equal(BOARD, np.array([[4, 4, 0, 0],\n",
    "                                       [2, 0, 0, 0],\n",
    "                                       [2, 0, 0, 0],\n",
    "                                       [2, 0, 0, 0]]))"
   ]
  },
  {
   "cell_type": "code",
   "execution_count": 21,
   "metadata": {},
   "outputs": [],
   "source": [
    "# Test shift right special consideration #1\n",
    "BOARD = np.array([[2, 0, 2, 4],\n",
    "                  [2, 0, 0, 0],\n",
    "                  [2, 0, 0, 0],\n",
    "                  [2, 0, 0, 0]])\n",
    "shift('a')\n",
    "assert np.array_equal(BOARD, np.array([[4, 4, 0, 0],\n",
    "                                       [2, 0, 0, 0],\n",
    "                                       [2, 0, 0, 0],\n",
    "                                       [2, 0, 0, 0]]))"
   ]
  },
  {
   "cell_type": "code",
   "execution_count": 22,
   "metadata": {},
   "outputs": [],
   "source": [
    "# Test shift right special consideration #2\n",
    "BOARD = np.array([[2, 2, 4, 8],\n",
    "                  [2, 0, 0, 0],\n",
    "                  [2, 0, 0, 0],\n",
    "                  [2, 0, 0, 0]])\n",
    "shift('a')\n",
    "assert np.array_equal(BOARD, np.array([[4, 4, 8, 0],\n",
    "                                       [2, 0, 0, 0],\n",
    "                                       [2, 0, 0, 0],\n",
    "                                       [2, 0, 0, 0]]))"
   ]
  },
  {
   "cell_type": "code",
   "execution_count": 23,
   "metadata": {},
   "outputs": [],
   "source": [
    "# Test `reset()`, `MOVE_COUNTER`, and `SCORE` values\n",
    "reset()\n",
    "assert MOVE_COUNTER == 0\n",
    "assert SCORE == 0\n",
    "assert MOVE_MADE == None\n",
    "assert len(BOARD.nonzero()[0]) == 2\n",
    "\n",
    "BOARD = np.array([[2, 2, 2, 2],\n",
    "                  [2, 0, 0, 0],\n",
    "                  [2, 0, 0, 0],\n",
    "                  [2, 0, 0, 0]])\n",
    "shift('a')\n",
    "shift('d')\n",
    "shift('w')\n",
    "shift('s')\n",
    "assert MOVE_COUNTER == 4\n",
    "assert SCORE == 20\n",
    "assert MOVE_MADE == True\n",
    "\n",
    "reset()\n",
    "assert MOVE_COUNTER == 0\n",
    "assert SCORE == 0\n",
    "assert MOVE_MADE == None\n",
    "assert len(BOARD.nonzero()[0]) == 2"
   ]
  },
  {
   "cell_type": "code",
   "execution_count": 24,
   "metadata": {},
   "outputs": [],
   "source": [
    "# Test `MOVE_MADE` doesn't update on bad moves\n",
    "reset()\n",
    "BOARD = np.array([[2, 4, 8, 16],\n",
    "                  [0, 0, 0, 0],\n",
    "                  [0, 0, 0, 0],\n",
    "                  [0, 0, 0, 0]])\n",
    "shift('d')\n",
    "shift('a')\n",
    "assert MOVE_MADE is False"
   ]
  },
  {
   "cell_type": "markdown",
   "metadata": {},
   "source": [
    "## The Actual Game "
   ]
  },
  {
   "cell_type": "code",
   "execution_count": 25,
   "metadata": {},
   "outputs": [],
   "source": [
    "def play(debug=False):\n",
    "    global BOARD, SCORE, MOVE_COUNTER, MOVE_MADE\n",
    "    \n",
    "    try:\n",
    "        # Start by setting up the board.\n",
    "        reset()\n",
    "\n",
    "        while True:\n",
    "            if debug is False:\n",
    "                clear_output()\n",
    "\n",
    "            if MOVE_MADE is False:\n",
    "                print(\"Move not made! Try again.\")\n",
    "                MOVE_COUNTER -= 1\n",
    "\n",
    "            print(f'Score: {int(SCORE)}, Move Counter: {MOVE_COUNTER}')\n",
    "            print('-------------------------')\n",
    "            print()\n",
    "\n",
    "            if debug is False:\n",
    "                pretty_print(BOARD)\n",
    "            else:\n",
    "                print(BOARD)\n",
    "            print()\n",
    "\n",
    "            # Check to make sure there is a move left we can make.\n",
    "            if check_if_there_is_a_move_left() is False:\n",
    "                print(f'You Lose! Final Score: {SCORE}')\n",
    "                return\n",
    "\n",
    "            # Now ask the user for input, then send that to shift.\n",
    "            direction = transform_direction_input()\n",
    "            shift(direction)\n",
    "            if MOVE_MADE:\n",
    "                # Add another random piece to the board.\n",
    "                add_random_space()\n",
    "\n",
    "    except Exception as e:\n",
    "        print(f'Uh-oh! Something went horribly wrong! This is not good.',\n",
    "               'Here is some specifics on what went so poorly: ')\n",
    "        print(e.message, e.args)"
   ]
  },
  {
   "cell_type": "code",
   "execution_count": null,
   "metadata": {
    "scrolled": false
   },
   "outputs": [
    {
     "name": "stdout",
     "output_type": "stream",
     "text": [
      "Score: 424, Move Counter: 53\n",
      "-------------------------\n",
      "\n",
      "      2   0  0  0  \n",
      "      8   0  0  0  \n",
      "     16   4  0  2  \n",
      "     64  16  4  4  \n",
      "\n"
     ]
    }
   ],
   "source": [
    "play()"
   ]
  },
  {
   "cell_type": "markdown",
   "metadata": {},
   "source": [
    "-----"
   ]
  }
 ],
 "metadata": {
  "kernelspec": {
   "display_name": "Python 3",
   "language": "python",
   "name": "python3"
  },
  "language_info": {
   "codemirror_mode": {
    "name": "ipython",
    "version": 3
   },
   "file_extension": ".py",
   "mimetype": "text/x-python",
   "name": "python",
   "nbconvert_exporter": "python",
   "pygments_lexer": "ipython3",
   "version": "3.7.1"
  }
 },
 "nbformat": 4,
 "nbformat_minor": 2
}
